{
 "cells": [
  {
   "cell_type": "code",
   "execution_count": 1,
   "metadata": {
    "collapsed": true
   },
   "outputs": [],
   "source": [
    "import csv\n",
    "\n",
    "\n",
    "import latechclfl2020.dlh.data as dlh_data\n",
    "import latechclfl2020.volsunga.data as vol_data\n",
    "import latechclfl2020.nibelungenlied.data as nib_data\n",
    "\n",
    "from latechclfl2020.models.texts import Work\n",
    "\n",
    "from enum import Enum\n",
    "\n",
    "class NERCategory(Enum):\n",
    "    person = \"PERSON\"\n",
    "    place = \"PLACE\"\n",
    "    group = \"GROUP\""
   ]
  },
  {
   "cell_type": "code",
   "execution_count": 2,
   "outputs": [],
   "source": [
    "dlh_person_names = dlh_data.get_lemmatised_dlh_person_names()\n",
    "vol_person_names = vol_data.get_volsunga_annotated_names()\n",
    "nib_person_names = nib_data.get_nibelungenlied_annotated_names()\n",
    "\n",
    "\n",
    "dlh_place_names = dlh_data.get_lemmatised_dlh_place_names()\n",
    "vol_place_names = vol_data.get_volsunga_annotated_places()\n",
    "nib_place_names = nib_data.get_nibelungenlied_annotated_places()\n",
    "\n",
    "\n",
    "vol_group_names = vol_data.get_volsunga_annotated_groups()\n",
    "nib_group_names = nib_data.get_nibelungenlied_annotated_groups()"
   ],
   "metadata": {
    "collapsed": false,
    "pycharm": {
     "name": "#%%\n"
    }
   }
  },
  {
   "cell_type": "code",
   "execution_count": 3,
   "outputs": [],
   "source": [
    "def writerow(dict_writer, work: Work, category: NERCategory, lemma_to_tokens):\n",
    "    for lemma in lemma_to_tokens:\n",
    "        dict_writer.writerow(dict(text=work.value, category=category.value,\n",
    "                         language=work.get_language().name, lemma=lemma,\n",
    "                         tokens=\":\".join(lemma_to_tokens[lemma])))\n",
    "\n",
    "fields = [\"text\", \"category\", \"language\", \"lemma\", \"tokens\"]"
   ],
   "metadata": {
    "collapsed": false,
    "pycharm": {
     "name": "#%%\n"
    }
   }
  },
  {
   "cell_type": "code",
   "execution_count": 4,
   "outputs": [],
   "source": [
    "def write_dataset(filename):\n",
    "    with open(filename, \"w\", encoding=\"utf-8\") as f:\n",
    "        dw = csv.DictWriter(f, fields, delimiter=\",\")\n",
    "        # person\n",
    "        writerow(dw, Work.DLH, NERCategory.person, dlh_person_names)\n",
    "        writerow(dw, Work.VOL, NERCategory.person, vol_person_names)\n",
    "        writerow(dw, Work.NIB, NERCategory.person, nib_person_names)\n",
    "        # place\n",
    "        writerow(dw, Work.DLH, NERCategory.place, dlh_place_names)\n",
    "        writerow(dw, Work.VOL, NERCategory.place, vol_place_names)\n",
    "        writerow(dw, Work.NIB, NERCategory.place, nib_place_names)\n",
    "        # group\n",
    "        writerow(dw, Work.VOL, NERCategory.group, vol_group_names)\n",
    "        writerow(dw, Work.NIB, NERCategory.group, nib_group_names)"
   ],
   "metadata": {
    "collapsed": false,
    "pycharm": {
     "name": "#%%\n"
    }
   }
  },
  {
   "cell_type": "code",
   "execution_count": 5,
   "outputs": [],
   "source": [
    "def read_dataset(filename):\n",
    "    with open(filename, \"r\", encoding=\"utf-8\") as f:\n",
    "        dr = csv.DictReader(f, fields)\n",
    "        for row in dr:\n",
    "            row[\"tokens\"] = row[\"tokens\"].split(\":\")\n",
    "            yield row"
   ],
   "metadata": {
    "collapsed": false,
    "pycharm": {
     "name": "#%%\n"
    }
   }
  },
  {
   "cell_type": "code",
   "execution_count": 6,
   "outputs": [],
   "source": [
    "dataset_filename = \"ner-dataset.csv\""
   ],
   "metadata": {
    "collapsed": false,
    "pycharm": {
     "name": "#%%\n"
    }
   }
  },
  {
   "cell_type": "code",
   "execution_count": 7,
   "outputs": [],
   "source": [
    "write_dataset(dataset_filename)"
   ],
   "metadata": {
    "collapsed": false,
    "pycharm": {
     "name": "#%%\n"
    }
   }
  },
  {
   "cell_type": "code",
   "execution_count": 8,
   "outputs": [],
   "source": [
    "rd = read_dataset(dataset_filename)"
   ],
   "metadata": {
    "collapsed": false,
    "pycharm": {
     "name": "#%%\n"
    }
   }
  },
  {
   "cell_type": "code",
   "execution_count": 9,
   "outputs": [
    {
     "data": {
      "text/plain": "{'text': 'Decem Libri Historiarum',\n 'category': 'PERSON',\n 'language': 'latin',\n 'lemma': 'Aaron',\n 'tokens': ['Aaron']}"
     },
     "execution_count": 9,
     "metadata": {},
     "output_type": "execute_result"
    }
   ],
   "source": [
    "rd.__next__()"
   ],
   "metadata": {
    "collapsed": false,
    "pycharm": {
     "name": "#%%\n"
    }
   }
  }
 ],
 "metadata": {
  "kernelspec": {
   "display_name": "Python 3",
   "language": "python",
   "name": "python3"
  },
  "language_info": {
   "codemirror_mode": {
    "name": "ipython",
    "version": 2
   },
   "file_extension": ".py",
   "mimetype": "text/x-python",
   "name": "python",
   "nbconvert_exporter": "python",
   "pygments_lexer": "ipython2",
   "version": "2.7.6"
  }
 },
 "nbformat": 4,
 "nbformat_minor": 0
}