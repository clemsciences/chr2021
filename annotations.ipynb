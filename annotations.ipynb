{
 "cells": [
  {
   "cell_type": "markdown",
   "metadata": {
    "collapsed": true,
    "pycharm": {
     "name": "#%% md\n"
    }
   },
   "source": [
    "# Annotations"
   ]
  },
  {
   "cell_type": "code",
   "execution_count": 1,
   "outputs": [],
   "source": [
    "import latechclfl2020.dlh.data as dlh_data\n",
    "import latechclfl2020.volsunga.data as vol_data\n",
    "import latechclfl2020.nibelungenlied.data as nib_data"
   ],
   "metadata": {
    "collapsed": false,
    "pycharm": {
     "name": "#%%\n"
    }
   }
  },
  {
   "cell_type": "code",
   "execution_count": 2,
   "outputs": [],
   "source": [
    "dlh_person_names = dlh_data.get_lemmatised_dlh_person_names()\n",
    "vol_person_names = vol_data.get_volsunga_annotated_names()\n",
    "nib_person_names = nib_data.get_nibelungenlied_annotated_names()"
   ],
   "metadata": {
    "collapsed": false,
    "pycharm": {
     "name": "#%%\n"
    }
   }
  },
  {
   "cell_type": "code",
   "execution_count": 3,
   "outputs": [],
   "source": [
    "def print_hints(d_input):\n",
    "    l_output = []\n",
    "    for i in d_input:\n",
    "        l_output.extend(d_input[i])\n",
    "    print(f\"number of lemmata in text: {len(d_input)}\")\n",
    "    print(f\"number of forms used in text: {len(l_output)}\")"
   ],
   "metadata": {
    "collapsed": false,
    "pycharm": {
     "name": "#%%\n"
    }
   }
  },
  {
   "cell_type": "code",
   "execution_count": 4,
   "outputs": [
    {
     "name": "stdout",
     "output_type": "stream",
     "text": [
      "number of lemmata in text: 812\n",
      "number of forms used in text: 1787\n"
     ]
    }
   ],
   "source": [
    "print_hints(dlh_person_names)"
   ],
   "metadata": {
    "collapsed": false,
    "pycharm": {
     "name": "#%%\n"
    }
   }
  },
  {
   "cell_type": "code",
   "execution_count": 5,
   "outputs": [
    {
     "name": "stdout",
     "output_type": "stream",
     "text": [
      "number of lemmata in text: 111\n",
      "number of forms used in text: 196\n"
     ]
    }
   ],
   "source": [
    "print_hints(vol_person_names)"
   ],
   "metadata": {
    "collapsed": false,
    "pycharm": {
     "name": "#%%\n"
    }
   }
  },
  {
   "cell_type": "code",
   "execution_count": 6,
   "outputs": [
    {
     "name": "stdout",
     "output_type": "stream",
     "text": [
      "number of lemmata in text: 67\n",
      "number of forms used in text: 168\n"
     ]
    }
   ],
   "source": [
    "print_hints(nib_person_names)"
   ],
   "metadata": {
    "collapsed": false,
    "pycharm": {
     "name": "#%%\n"
    }
   }
  },
  {
   "cell_type": "code",
   "execution_count": 7,
   "outputs": [],
   "source": [
    "dlh_place_names = dlh_data.get_lemmatised_dlh_place_names()\n",
    "vol_place_names = vol_data.get_volsunga_annotated_places()\n",
    "nib_place_names = nib_data.get_nibelungenlied_annotated_places()"
   ],
   "metadata": {
    "collapsed": false,
    "pycharm": {
     "name": "#%%\n"
    }
   }
  },
  {
   "cell_type": "code",
   "execution_count": 8,
   "outputs": [
    {
     "name": "stdout",
     "output_type": "stream",
     "text": [
      "number of lemmata in text: 349\n",
      "number of forms used in text: 990\n"
     ]
    }
   ],
   "source": [
    "print_hints(dlh_place_names)"
   ],
   "metadata": {
    "collapsed": false,
    "pycharm": {
     "name": "#%%\n"
    }
   }
  },
  {
   "cell_type": "code",
   "execution_count": 9,
   "outputs": [
    {
     "name": "stdout",
     "output_type": "stream",
     "text": [
      "number of lemmata in text: 32\n",
      "number of forms used in text: 37\n"
     ]
    }
   ],
   "source": [
    "print_hints(vol_place_names)"
   ],
   "metadata": {
    "collapsed": false,
    "pycharm": {
     "name": "#%%\n"
    }
   }
  },
  {
   "cell_type": "code",
   "execution_count": 10,
   "outputs": [
    {
     "name": "stdout",
     "output_type": "stream",
     "text": [
      "number of lemmata in text: 65\n",
      "number of forms used in text: 86\n"
     ]
    }
   ],
   "source": [
    "print_hints(nib_place_names)"
   ],
   "metadata": {
    "collapsed": false,
    "pycharm": {
     "name": "#%%\n"
    }
   }
  },
  {
   "cell_type": "code",
   "execution_count": 11,
   "outputs": [],
   "source": [
    "# dlh_group_names = dlh_data.get_\n",
    "vol_group_names = vol_data.get_volsunga_annotated_groups()\n",
    "nib_group_names = nib_data.get_nibelungenlied_annotated_groups()"
   ],
   "metadata": {
    "collapsed": false,
    "pycharm": {
     "name": "#%%\n"
    }
   }
  },
  {
   "cell_type": "code",
   "execution_count": 12,
   "outputs": [
    {
     "name": "stdout",
     "output_type": "stream",
     "text": [
      "number of lemmata in text: 5\n",
      "number of forms used in text: 5\n"
     ]
    }
   ],
   "source": [
    "print_hints(vol_group_names)"
   ],
   "metadata": {
    "collapsed": false,
    "pycharm": {
     "name": "#%%\n"
    }
   }
  },
  {
   "cell_type": "code",
   "execution_count": 13,
   "outputs": [
    {
     "name": "stdout",
     "output_type": "stream",
     "text": [
      "number of lemmata in text: 3\n",
      "number of forms used in text: 4\n"
     ]
    }
   ],
   "source": [
    "print_hints(nib_group_names)"
   ],
   "metadata": {
    "collapsed": false,
    "pycharm": {
     "name": "#%%\n"
    }
   }
  },
  {
   "cell_type": "code",
   "execution_count": 13,
   "outputs": [],
   "source": [],
   "metadata": {
    "collapsed": false,
    "pycharm": {
     "name": "#%%\n"
    }
   }
  }
 ],
 "metadata": {
  "kernelspec": {
   "display_name": "Python 3",
   "language": "python",
   "name": "python3"
  },
  "language_info": {
   "codemirror_mode": {
    "name": "ipython",
    "version": 2
   },
   "file_extension": ".py",
   "mimetype": "text/x-python",
   "name": "python",
   "nbconvert_exporter": "python",
   "pygments_lexer": "ipython2",
   "version": "2.7.6"
  }
 },
 "nbformat": 4,
 "nbformat_minor": 0
}