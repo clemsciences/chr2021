{
 "cells": [
  {
   "cell_type": "markdown",
   "source": [
    "# Data from the *Völsunga saga*"
   ],
   "metadata": {
    "collapsed": false,
    "pycharm": {
     "name": "#%% md\n"
    }
   }
  },
  {
   "cell_type": "code",
   "execution_count": 15,
   "metadata": {
    "collapsed": true
   },
   "outputs": [],
   "source": [
    "\n",
    "import latechclfl2020.volsunga.data as vol_data\n",
    "from constants import remove_punctuation"
   ]
  },
  {
   "cell_type": "code",
   "execution_count": 16,
   "outputs": [
    {
     "name": "stdout",
     "output_type": "stream",
     "text": [
      "42 chapters\n"
     ]
    }
   ],
   "source": [
    "structured_text = vol_data.get_volsunga_text()\n",
    "print(f\"{len(structured_text)} chapters\")"
   ],
   "metadata": {
    "collapsed": false,
    "pycharm": {
     "name": "#%%*\n"
    }
   }
  },
  {
   "cell_type": "code",
   "execution_count": 17,
   "outputs": [
    {
     "name": "stdout",
     "output_type": "stream",
     "text": [
      "316 paragraphs\n"
     ]
    }
   ],
   "source": [
    "paragraphs = [para for chapter in structured_text for para in chapter]\n",
    "print(f\"{len(paragraphs)} paragraphs\")"
   ],
   "metadata": {
    "collapsed": false,
    "pycharm": {
     "name": "#%%\n"
    }
   }
  },
  {
   "cell_type": "code",
   "execution_count": 18,
   "outputs": [
    {
     "name": "stdout",
     "output_type": "stream",
     "text": [
      "1712 sentences\n"
     ]
    }
   ],
   "source": [
    "sentences = [sentence for para in paragraphs for sentence in para]\n",
    "print(f\"{len(sentences)} sentences\")"
   ],
   "metadata": {
    "collapsed": false,
    "pycharm": {
     "name": "#%%\n"
    }
   }
  },
  {
   "cell_type": "code",
   "execution_count": 20,
   "outputs": [
    {
     "name": "stdout",
     "output_type": "stream",
     "text": [
      "26779 tokens\n"
     ]
    }
   ],
   "source": [
    "tokens = [token for sentence in sentences for token in sentence if remove_punctuation(token)]\n",
    "print(f\"{len(tokens)} tokens\")"
   ],
   "metadata": {
    "collapsed": false,
    "pycharm": {
     "name": "#%%\n"
    }
   }
  },
  {
   "cell_type": "code",
   "execution_count": null,
   "outputs": [],
   "source": [],
   "metadata": {
    "collapsed": false,
    "pycharm": {
     "name": "#%%\n"
    }
   }
  }
 ],
 "metadata": {
  "kernelspec": {
   "display_name": "Python 3",
   "language": "python",
   "name": "python3"
  },
  "language_info": {
   "codemirror_mode": {
    "name": "ipython",
    "version": 2
   },
   "file_extension": ".py",
   "mimetype": "text/x-python",
   "name": "python",
   "nbconvert_exporter": "python",
   "pygments_lexer": "ipython2",
   "version": "2.7.6"
  }
 },
 "nbformat": 4,
 "nbformat_minor": 0
}